{
 "cells": [
  {
   "cell_type": "code",
   "execution_count": 2,
   "id": "8db2cd93",
   "metadata": {},
   "outputs": [
    {
     "name": "stdout",
     "output_type": "stream",
     "text": [
      "Enter you name: Jean\n",
      "Enter your weight in pounds: 123\n",
      "Enter your weight in inches: 64\n",
      "21.110595703125\n",
      "Jean, You are normal weight.\n"
     ]
    }
   ],
   "source": [
    "name = input(\"Enter you name: \")\n",
    "\n",
    "weight = int(input(\"Enter your weight in pounds: \"))\n",
    "\n",
    "height = int(input(\"Enter your weight in inches: \"))\n",
    "\n",
    "BMI = (weight * 703) / (height * height )\n",
    "\n",
    "print(BMI)\n",
    "\n",
    "if BMI>0:\n",
    "    if(BMI<18.5):\n",
    "        print(name +\", You are underweight.\")\n",
    "    elif (BMI<=24.9):\n",
    "        print(name +\", You are normal weight.\")\n",
    "    elif (BMI<=29.9):\n",
    "        print(name +\", You are overweight.\")\n",
    "    elif (BMI<=34.9):\n",
    "        print(name +\", You are obese.\")\n",
    "    elif (BMI<=39.9):\n",
    "        print(name +\", You are severely Obese.\")\n",
    "    else:\n",
    "        print(name +\", You are morbidly Obese.\")\n",
    "else:\n",
    "    print(\"Enter valid input\")"
   ]
  },
  {
   "cell_type": "code",
   "execution_count": null,
   "id": "4e2e93aa",
   "metadata": {},
   "outputs": [],
   "source": []
  },
  {
   "cell_type": "code",
   "execution_count": null,
   "id": "8e9f302b",
   "metadata": {},
   "outputs": [],
   "source": []
  },
  {
   "cell_type": "code",
   "execution_count": null,
   "id": "ae81f2a4",
   "metadata": {},
   "outputs": [],
   "source": []
  },
  {
   "cell_type": "code",
   "execution_count": null,
   "id": "b5ce4b9d",
   "metadata": {},
   "outputs": [],
   "source": [
    "#BMI = (weight in pounds x 703) / (height in inches x height in inches)"
   ]
  },
  {
   "cell_type": "code",
   "execution_count": null,
   "id": "a1dcfb7b",
   "metadata": {},
   "outputs": [],
   "source": [
    "print(weight)"
   ]
  },
  {
   "cell_type": "code",
   "execution_count": null,
   "id": "2e1d580f",
   "metadata": {},
   "outputs": [],
   "source": [
    "Under ≤ 18.5\tUnderweight\tminimal\n",
    "18.5 - 24.9\tNormal weight\tminimal\n",
    "25 - 29.9\tOverweight\tIncreased\n",
    "30 - 34.9\tObese\tHigh\n",
    "35 - 39.9\tSeverely Obese\tVery High\n",
    "40 and over\tMorbidly Obese\tExtremely High"
   ]
  },
  {
   "cell_type": "code",
   "execution_count": 18,
   "id": "c819b991",
   "metadata": {},
   "outputs": [
    {
     "name": "stdout",
     "output_type": "stream",
     "text": [
      "Jean, You are overweight.\n"
     ]
    }
   ],
   "source": [
    "if BMI>0:\n",
    "    if(BMI<18.5):\n",
    "        print(name +\", You are underweight.\")\n",
    "    elif (BMI<=24.9):\n",
    "        print(name +\", You are normal weight.\")\n",
    "    elif (BMI<=29.9):\n",
    "        print(name +\", You are overweight.\")\n",
    "    elif (BMI<=34.9):\n",
    "        print(name +\", You are obese.\")\n",
    "    elif (BMI<=39.9):\n",
    "        print(name +\", You are severely Obese.\")\n",
    "    else:\n",
    "        print(name +\", You are morbidly Obese.\")\n",
    "else:\n",
    "    print(\"Enter valid input\")"
   ]
  },
  {
   "cell_type": "code",
   "execution_count": null,
   "id": "d83a8fa2",
   "metadata": {},
   "outputs": [],
   "source": []
  }
 ],
 "metadata": {
  "kernelspec": {
   "display_name": "Python 3 (ipykernel)",
   "language": "python",
   "name": "python3"
  },
  "language_info": {
   "codemirror_mode": {
    "name": "ipython",
    "version": 3
   },
   "file_extension": ".py",
   "mimetype": "text/x-python",
   "name": "python",
   "nbconvert_exporter": "python",
   "pygments_lexer": "ipython3",
   "version": "3.10.9"
  }
 },
 "nbformat": 4,
 "nbformat_minor": 5
}
